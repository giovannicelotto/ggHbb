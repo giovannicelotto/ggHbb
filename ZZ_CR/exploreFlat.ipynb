{
 "cells": [
  {
   "cell_type": "code",
   "execution_count": null,
   "metadata": {},
   "outputs": [],
   "source": [
    "# %%\n",
    "import matplotlib.pyplot as plt\n",
    "import pandas as pd\n",
    "from functions import *\n",
    "import mplhep as hep\n",
    "hep.style.use(\"CMS\")\n",
    "# %%\n",
    "dfs, sumw = loadMultiParquet_v2(paths=[4], nMCs=-1, returnNumEventsTotal=True)\n",
    "# %%\n",
    "fig, ax = plt.subplots(1, 2, figsize=(10, 5))\n",
    "min_mumu, max_mumu = 83, 100\n",
    "\n",
    "ax[0].hist(dfs[0].dimuonZZ_mass, bins=np.linspace(0, 120, 101))\n",
    "ax[0].set_yscale('log')\n",
    "ax[0].set_ylim(ax[0].get_ylim())\n",
    "ax[0].vlines(x=[min_mumu, max_mumu], ymin=ax[0].get_ylim()[0], ymax=ax[0].get_ylim()[1], color='C1')\n",
    "ax[0].set_xlabel(\"Dimuon mass [GeV]\")\n",
    "bins = np.linspace(0, 200, 31)\n",
    "ax[1].hist(dfs[0].dijet_mass, bins=bins, histtype='step', weights=dfs[0].genWeight *1000 * 12.14 *41.6/sumw[0], label='Inclusive')\n",
    "ax[1].hist(dfs[0].dijet_mass[(dfs[0].dimuonZZ_mass>85) & (dfs[0].dimuonZZ_mass<100)], bins=bins, histtype='step', weights=dfs[0].genWeight[(dfs[0].dimuonZZ_mass>85) & (dfs[0].dimuonZZ_mass<100)] *1000 * 12.14 *41.6/sumw[0], label='%d < $m_{\\mu\\mu}$ < %d'%(min_mumu, max_mumu))\n",
    "ax[1].set_yscale('log')\n",
    "ax[1].set_ylim(ax[1].get_ylim()[0], ax[1].get_ylim()[1]*20)\n",
    "ax[1].legend()\n",
    "ax[1].set_xlabel(\"Dijet mass [GeV]\")\n",
    "# %%\n",
    "fig, ax = plt.subplots(1, 2, figsize=(10, 5))\n",
    "min_ee, max_ee = 80, 100\n",
    "\n",
    "ax[0].hist(dfs[0].diele_mass, bins=np.linspace(0, 150, 101))\n",
    "ax[0].set_yscale('log')\n",
    "ax[0].set_ylim(ax[0].get_ylim())\n",
    "ax[0].vlines(x=[min_ee, max_ee], ymin=ax[0].get_ylim()[0], ymax=ax[0].get_ylim()[1], color='C1')\n",
    "ax[0].set_xlabel(\"Dielectron mass [GeV]\")\n",
    "bins = np.linspace(0, 200, 31)\n",
    "ax[1].hist(dfs[0].dijet_mass, bins=bins, histtype='step', weights=dfs[0].genWeight *1000 * 12.14 *41.6/sumw[0], label='Inclusive')\n",
    "ax[1].hist(dfs[0].dijet_mass[(dfs[0].diele_mass>min_ee) & (dfs[0].diele_mass<max_ee)], bins=bins, histtype='step', weights=dfs[0].genWeight[(dfs[0].diele_mass>min_ee) & (dfs[0].diele_mass<max_ee)] *1000 * 12.14 *41.6/sumw[0], label='%d < $m_{ee}$ < %d'%(min_ee, max_ee))\n",
    "ax[1].set_yscale('log')\n",
    "ax[1].set_ylim(ax[1].get_ylim()[0], ax[1].get_ylim()[1]*20)\n",
    "ax[1].legend()\n",
    "ax[1].set_xlabel(\"Dijet mass [GeV]\")\n",
    "# %%\n"
   ]
  }
 ],
 "metadata": {
  "language_info": {
   "name": "python"
  }
 },
 "nbformat": 4,
 "nbformat_minor": 2
}
